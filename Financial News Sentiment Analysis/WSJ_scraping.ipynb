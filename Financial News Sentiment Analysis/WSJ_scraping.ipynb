{
 "cells": [
  {
   "cell_type": "markdown",
   "metadata": {},
   "source": [
    "|       | Description |\n",
    "| ----------- | ----------- |\n",
    "| Author      | Blaine Hill (MSCS student) |\n",
    "| Date   | 11/25/2023        |\n",
    "|Email|blaineh2@illinois.edu|\n",
    "|Idea| Use Selenium to get the news contents from WSJ |"
   ]
  },
  {
   "cell_type": "code",
   "execution_count": null,
   "metadata": {},
   "outputs": [],
   "source": [
    "from selenium import webdriver # allow launching browser\n",
    "from selenium.webdriver.common.by import By # allow search with parameters\n",
    "from selenium.webdriver.support.ui import WebDriverWait # allow waiting for page to load\n",
    "from selenium.webdriver.support import expected_conditions as EC # determine whether the web page has loaded\n",
    "from selenium.common.exceptions import TimeoutException # handling timeout situation\n",
    "import time\n",
    "import os\n",
    "from random import uniform, random, choice, shuffle\n",
    "import pandas as pd\n",
    "from tqdm import tqdm\n",
    "import pickle"
   ]
  },
  {
   "cell_type": "code",
   "execution_count": null,
   "metadata": {},
   "outputs": [],
   "source": [
    "options = webdriver.ChromeOptions()\n",
    "driver = webdriver.Chrome(options=options)"
   ]
  },
  {
   "cell_type": "code",
   "execution_count": null,
   "metadata": {},
   "outputs": [],
   "source": [
    "def create_webdriver():\n",
    "    return webdriver.chrome.webdriver.WebDriver()"
   ]
  },
  {
   "cell_type": "code",
   "execution_count": null,
   "metadata": {},
   "outputs": [],
   "source": [
    "%load_ext dotenv\n",
    "%dotenv\n",
    "\n",
    "email = %env EMAIL\n",
    "PW = %env PASSWORD "
   ]
  },
  {
   "cell_type": "code",
   "execution_count": null,
   "metadata": {},
   "outputs": [],
   "source": [
    "browser = create_webdriver()\n",
    "link = \"https://sso.accounts.dowjones.com/login-page?client_id=5hssEAdMy0mJTICnJNvC9TXEw3Va7jfO&redirect_uri=https%3A%2F%2Fwww.wsj.com%2Fclient%2Fauth&response_type=code&scope=openid%20idp_id%20roles%20tags%20email%20given_name%20family_name%20uuid%20djid%20djUsername%20djStatus%20trackid%20prts%20updated_at%20created_at%20offline_access&ui_locales=en-us-x-wsj-223-2&nonce=52c47041-ffac-4ebd-a213-e777ff5b684e&state=Br3BYl9iSECXktJn.c8ksuGzlG5CBOw5mEnxqxAx_vb3PwwuwocDA8Tqt_CU&resource=https%253A%252F%252Fwww.wsj.com%252F&protocol=oauth2&client=5hssEAdMy0mJTICnJNvC9TXEw3Va7jfO#!/signin\"\n",
    "browser.get(link)"
   ]
  },
  {
   "cell_type": "code",
   "execution_count": null,
   "metadata": {},
   "outputs": [],
   "source": [
    "email_field = WebDriverWait(browser, 10).until(EC.element_to_be_clickable((By.ID, \"username\")))\n",
    "email_field.send_keys(email)"
   ]
  },
  {
   "cell_type": "code",
   "execution_count": null,
   "metadata": {},
   "outputs": [],
   "source": [
    "l = browser.find_element(By.XPATH, '//*[@id=\"basic-login\"]/div[1]/form/div[2]/div[6]/div[1]/button[1]')\n",
    "browser.execute_script(\"arguments[0].click();\", l);"
   ]
  },
  {
   "cell_type": "code",
   "execution_count": null,
   "metadata": {},
   "outputs": [],
   "source": [
    "pw_field =  WebDriverWait(browser, 10).until(EC.element_to_be_clickable((By.XPATH, '//*[@id=\"password-login-password\"]')))\n",
    "pw_field.send_keys(PW)"
   ]
  },
  {
   "cell_type": "code",
   "execution_count": null,
   "metadata": {},
   "outputs": [],
   "source": [
    "login_button = browser.find_element(By.XPATH, '//*[@id=\"password-login\"]/div/form/div/div[5]/div[1]/button')\n",
    "browser.execute_script(\"arguments[0].click();\", login_button);"
   ]
  },
  {
   "cell_type": "code",
   "execution_count": null,
   "metadata": {},
   "outputs": [],
   "source": [
    "keyword = \"google\"\n",
    "link2 = f\"https://www.wsj.com/search?query={keyword}&isToggleOn=true&operator=OR&sort=relevance&duration=1y&startDate=2022%2F03%2F29&endDate=2023%2F10%2F16&source=wsjie%2Cblog%2Cwsjvideo%2Cinteractivemedia%2Cwsjsitesrch%2Cwsjpro%2Cwsjaudio%2Clivecoverage\"\n",
    "browser.get(link2)"
   ]
  },
  {
   "cell_type": "code",
   "execution_count": null,
   "metadata": {},
   "outputs": [],
   "source": [
    "dir_path = f\"../data/Links for Finetuning Language Models/\"\n",
    "os.makedirs(dir_path, exist_ok=True)\n",
    "file_name = f\"wsj_{keyword}_links.txt\"\n",
    "file_path = os.path.join(dir_path, file_name)\n"
   ]
  },
  {
   "cell_type": "code",
   "execution_count": null,
   "metadata": {},
   "outputs": [],
   "source": [
    "links = []\n",
    "for i in range(500):\n",
    "    elems = browser.find_elements(By.XPATH,\"//a[@href]\")\n",
    "    tmp_set = {elem.get_attribute(\"href\") for elem in elems if \"wsj.com/articles/\" in elem.get_attribute(\"href\")}\n",
    "    links += list(tmp_set)\n",
    "    with open(file_path, 'a') as f:\n",
    "        # Write each link to the file, followed by a newline character\n",
    "        for link in tmp_set:\n",
    "            f.write(link + '\\n')\n",
    "    browser.get(link2 + f\"&page={i+2}\")\n",
    "    print(\"reaching page: \", i + 1, 'len(links):', len(links))\n",
    "\n",
    "    time.sleep(choice([(random() + 0.5) * 20, (random() + 0.5) * 30]))"
   ]
  }
 ],
 "metadata": {
  "kernelspec": {
   "display_name": "temp",
   "language": "python",
   "name": "python3"
  },
  "language_info": {
   "codemirror_mode": {
    "name": "ipython",
    "version": 3
   },
   "file_extension": ".py",
   "mimetype": "text/x-python",
   "name": "python",
   "nbconvert_exporter": "python",
   "pygments_lexer": "ipython3",
   "version": "3.11.5"
  }
 },
 "nbformat": 4,
 "nbformat_minor": 2
}
