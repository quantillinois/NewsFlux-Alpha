{
 "cells": [
  {
   "cell_type": "markdown",
   "id": "47775598",
   "metadata": {},
   "source": [
    "|       | Description |\n",
    "| ----------- | ----------- |\n",
    "| Author      | Kamin Atsavasirilert (MSFE student at UIUC)|\n",
    "| Date   | 10/30/2023        |\n",
    "|Email|kamina2@illinois.edu|\n",
    "|Idea| Use Selenium to get the news contents from Barron's |"
   ]
  },
  {
   "cell_type": "code",
   "execution_count": 1,
   "id": "692dc707",
   "metadata": {},
   "outputs": [],
   "source": [
    "from selenium import webdriver # allow launching browser\n",
    "from selenium.webdriver.common.by import By # allow search with parameters\n",
    "from selenium.webdriver.support.ui import WebDriverWait # allow waiting for page to load\n",
    "from selenium.webdriver.support import expected_conditions as EC # determine whether the web page has loaded\n",
    "from selenium.common.exceptions import TimeoutException # handling timeout situation\n",
    "import time\n",
    "import os\n",
    "from random import uniform, random, choice, shuffle\n",
    "import pandas as pd\n",
    "from tqdm import tqdm\n",
    "import pickle"
   ]
  },
  {
   "cell_type": "code",
   "execution_count": 2,
   "id": "4924b165",
   "metadata": {},
   "outputs": [],
   "source": [
    "options = webdriver.ChromeOptions()\n",
    "driver = webdriver.Chrome(options=options)"
   ]
  },
  {
   "cell_type": "code",
   "execution_count": null,
   "id": "ce56f92f",
   "metadata": {},
   "outputs": [],
   "source": [
    "def create_webdriver():\n",
    "    return webdriver.chrome.webdriver.WebDriver()"
   ]
  },
  {
   "cell_type": "code",
   "execution_count": null,
   "id": "6875cc95",
   "metadata": {},
   "outputs": [],
   "source": [
    "email = '<YOUR_EMAIL>'\n",
    "PW = '<PASSWORD>'"
   ]
  },
  {
   "cell_type": "code",
   "execution_count": null,
   "id": "4c089b65",
   "metadata": {},
   "outputs": [],
   "source": [
    "browser = create_webdriver()\n",
    "link = \"https://sso.accounts.dowjones.com/login-page?client_id=5hssEAdMy0mJTICnJNvC9TXEw3Va7jfO&redirect_uri=https%3A%2F%2Fwww.barrons.com%2Fclient%2Fauth&response_type=code&scope=openid%20idp_id%20roles%20tags%20email%20given_name%20family_name%20uuid%20djid%20djUsername%20djStatus%20trackid%20prts%20updated_at%20created_at%20offline_access&ui_locales=en-us-x-barrons-223-2&nonce=5be85805-8aae-4e29-879d-6443fcc540a7&state=7jxTAzU1TvYYT8DZ.YXZXI-6hSh7SUwIahTuw8TWcpS5djZgQE4b5PIUveh8&resource=https%253A%252F%252Fwww.barrons.com%252F&protocol=oauth2&client=5hssEAdMy0mJTICnJNvC9TXEw3Va7jfO#!/signin\"\n",
    "browser.get(link)"
   ]
  },
  {
   "cell_type": "code",
   "execution_count": null,
   "id": "6639b730",
   "metadata": {},
   "outputs": [],
   "source": [
    "email_field = browser.find_element(By.ID, 'username')\n",
    "email_field.send_keys(email)"
   ]
  },
  {
   "cell_type": "code",
   "execution_count": null,
   "id": "dc3f1968",
   "metadata": {},
   "outputs": [],
   "source": [
    "l = browser.find_element(By.XPATH, '//*[@id=\"basic-login\"]/div[1]/form/div[2]/div[6]/div[1]/button[1]')\n",
    "browser.execute_script(\"arguments[0].click();\", l);"
   ]
  },
  {
   "cell_type": "code",
   "execution_count": null,
   "id": "10129390",
   "metadata": {},
   "outputs": [],
   "source": [
    "pw_field = browser.find_element(By.XPATH, '//*[@id=\"password-login-password\"]')\n",
    "pw_field.send_keys(PW)"
   ]
  },
  {
   "cell_type": "code",
   "execution_count": null,
   "id": "a4a41828",
   "metadata": {},
   "outputs": [],
   "source": [
    "login_button = browser.find_element(By.XPATH, '//*[@id=\"password-login\"]/div/form/div/div[5]/div[1]/button')\n",
    "browser.execute_script(\"arguments[0].click();\", login_button);"
   ]
  },
  {
   "cell_type": "code",
   "execution_count": null,
   "id": "4c530f44",
   "metadata": {},
   "outputs": [],
   "source": [
    "keyword = \"economy\"\n",
    "link2 = f\"https://www.barrons.com/search?query={keyword}&quotequery=80&isToggleOn=true&operator=OR&sort=relevance&duration=4y&startDate=2022%2F03%2F29&endDate=2023%2F10%2F16&source=barrons%2Cautowire&search_keywords=economy&search_statement_type=filtered\"\n",
    "# link2 = f\"https://www.barrons.com/search?query={keyword}&quotequery=dwcf&isToggleOn=true&operator=OR&sort=relevance&duration=4y&startDate=2019%2F10%2F16&endDate=2023%2F10%2F16&source=barrons%2Cautowire&search_keywords=stock&search_statement_type=filtered\"\n",
    "browser.get(link2)"
   ]
  },
  {
   "cell_type": "code",
   "execution_count": null,
   "id": "074a4e2f",
   "metadata": {},
   "outputs": [],
   "source": [
    "links = []\n",
    "for i in range(500):\n",
    "    elems = browser.find_elements(By.XPATH,\"//a[@href]\")\n",
    "    tmp_set = {elem.get_attribute(\"href\") for elem in elems if \"barrons.com/articles/\" in elem.get_attribute(\"href\")}\n",
    "    links += list(tmp_set)\n",
    "    browser.get(link2 + f\"&page={i+2}\")\n",
    "    print(\"reaching page: \", i + 1, 'len(links):', len(links))\n",
    "\n",
    "    time.sleep(choice([(random() + 0.5) * 20, (random() + 0.5) * 30]))"
   ]
  },
  {
   "cell_type": "markdown",
   "id": "edda5dc1",
   "metadata": {},
   "source": [
    "# News content extraction"
   ]
  },
  {
   "cell_type": "code",
   "execution_count": null,
   "id": "09bd3642",
   "metadata": {},
   "outputs": [],
   "source": [
    "tmp_all_links = <LIST OF YOUR LINKS>"
   ]
  },
  {
   "cell_type": "code",
   "execution_count": null,
   "id": "0692d0b0",
   "metadata": {},
   "outputs": [],
   "source": [
    "cnt = 0\n",
    "data = {'link': [], 'topic': [], 'time': [], 'header': [], 'content': []}\n",
    "with tqdm(total = len(tmp_all_links)) as pbar:\n",
    "    for ind, i in enumerate(tmp_all_links):\n",
    "        pbar.update(1)\n",
    "        browser.get(i)\n",
    "        print('ind:',ind)\n",
    "        print(i)\n",
    "        tmp_id = i.split('/')[-1].split('?')[0]\n",
    "#         print(tmp_id)\n",
    "        try:\n",
    "            time.sleep(1.5)\n",
    "            tmp_date = browser.find_element(By.XPATH,f'//*[@id=\"{tmp_id}\"]/div[1]/div[4]/div/p').text\n",
    "            header = browser.find_elements(By.TAG_NAME, 'h1')[0].text\n",
    "            contents = [i.text for i in browser.find_elements(By.TAG_NAME, 'P')]\n",
    "            category = browser.find_elements(By.TAG_NAME, 'NAV')[0].text\n",
    "\n",
    "        except:\n",
    "            try: \n",
    "                time.sleep(1)\n",
    "                tmp_date = browser.find_element(By.XPATH,f'//*[@id=\"{tmp_id}\"]/div[1]/div[4]/div/p').text\n",
    "                header = browser.find_elements(By.TAG_NAME, 'h1')[0].text\n",
    "                contents = [i.text for i in browser.find_elements(By.TAG_NAME, 'P')]\n",
    "                category = browser.find_elements(By.TAG_NAME, 'NAV')[0].text\n",
    "            except:\n",
    "                print('elem.text: broken')\n",
    "                cnt += 1\n",
    "                continue\n",
    "        print('header:', header)\n",
    "        data['link'].append(i)\n",
    "        data['topic'].append(category)\n",
    "        data['time'].append(tmp_date)\n",
    "        data['header'].append(header)\n",
    "        data['content'].append(contents)"
   ]
  }
 ],
 "metadata": {
  "kernelspec": {
   "display_name": "min",
   "language": "python",
   "name": "min"
  },
  "language_info": {
   "codemirror_mode": {
    "name": "ipython",
    "version": 3
   },
   "file_extension": ".py",
   "mimetype": "text/x-python",
   "name": "python",
   "nbconvert_exporter": "python",
   "pygments_lexer": "ipython3",
   "version": "3.9.17"
  }
 },
 "nbformat": 4,
 "nbformat_minor": 5
}
