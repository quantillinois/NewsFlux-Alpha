{
 "cells": [
  {
   "cell_type": "markdown",
   "metadata": {},
   "source": [
    "# News content extraction"
   ]
  },
  {
   "cell_type": "code",
   "execution_count": null,
   "metadata": {},
   "outputs": [],
   "source": [
    "from selenium import webdriver # allow launching browser\n",
    "from selenium.webdriver.common.by import By # allow search with parameters\n",
    "from selenium.webdriver.support.ui import WebDriverWait # allow waiting for page to load\n",
    "from selenium.webdriver.support import expected_conditions as EC # determine whether the web page has loaded\n",
    "from selenium.common.exceptions import TimeoutException # handling timeout situation\n",
    "import time\n",
    "import os\n",
    "from random import uniform, random, choice, shuffle\n",
    "import pandas as pd\n",
    "from tqdm import tqdm\n",
    "import pickle"
   ]
  },
  {
   "cell_type": "code",
   "execution_count": null,
   "metadata": {},
   "outputs": [],
   "source": [
    "file_name = 'wsj_tesla_links.txt' #replace with the file name of the links you want to extract\n",
    "\n",
    "\n",
    "dir_path = f\"../data/Links for Finetuning Language Models/\"\n",
    "file_path = os.path.join(dir_path, file_name)\n",
    "#import a list of links here\n",
    "with open(file_path, 'r') as f:\n",
    "    links = f.readlines()\n",
    "print(len(links))"
   ]
  },
  {
   "cell_type": "code",
   "execution_count": null,
   "metadata": {},
   "outputs": [],
   "source": [
    "options = webdriver.ChromeOptions()\n",
    "driver = webdriver.Chrome(options=options)"
   ]
  },
  {
   "cell_type": "code",
   "execution_count": null,
   "metadata": {},
   "outputs": [],
   "source": [
    "def create_webdriver():\n",
    "    return webdriver.chrome.webdriver.WebDriver()"
   ]
  },
  {
   "cell_type": "code",
   "execution_count": null,
   "metadata": {},
   "outputs": [],
   "source": [
    "%load_ext dotenv\n",
    "%dotenv\n",
    "\n",
    "email = %env EMAIL\n",
    "PW = %env PASSWORD "
   ]
  },
  {
   "cell_type": "code",
   "execution_count": null,
   "metadata": {},
   "outputs": [],
   "source": [
    "browser = create_webdriver()\n",
    "barrons_link = \"https://sso.accounts.dowjones.com/login-page?client_id=5hssEAdMy0mJTICnJNvC9TXEw3Va7jfO&redirect_uri=https%3A%2F%2Fwww.barrons.com%2Fclient%2Fauth&response_type=code&scope=openid%20idp_id%20roles%20tags%20email%20given_name%20family_name%20uuid%20djid%20djUsername%20djStatus%20trackid%20prts%20updated_at%20created_at%20offline_access&ui_locales=en-us-x-barrons-223-2&nonce=5be85805-8aae-4e29-879d-6443fcc540a7&state=7jxTAzU1TvYYT8DZ.YXZXI-6hSh7SUwIahTuw8TWcpS5djZgQE4b5PIUveh8&resource=https%253A%252F%252Fwww.barrons.com%252F&protocol=oauth2&client=5hssEAdMy0mJTICnJNvC9TXEw3Va7jfO#!/signin\"\n",
    "wsj_link = \"https://sso.accounts.dowjones.com/login-page?client_id=5hssEAdMy0mJTICnJNvC9TXEw3Va7jfO&redirect_uri=https%3A%2F%2Fwww.wsj.com%2Fclient%2Fauth&response_type=code&scope=openid%20idp_id%20roles%20tags%20email%20given_name%20family_name%20uuid%20djid%20djUsername%20djStatus%20trackid%20prts%20updated_at%20created_at%20offline_access&ui_locales=en-us-x-wsj-223-2&nonce=52c47041-ffac-4ebd-a213-e777ff5b684e&state=Br3BYl9iSECXktJn.c8ksuGzlG5CBOw5mEnxqxAx_vb3PwwuwocDA8Tqt_CU&resource=https%253A%252F%252Fwww.wsj.com%252F&protocol=oauth2&client=5hssEAdMy0mJTICnJNvC9TXEw3Va7jfO#!/signin\"\n",
    "marketwatch_link = \"https://sso.accounts.dowjones.com/login-page?op=localop&scope=openid%20idp_id%20roles%20email%20given_name%20family_name%20djid%20djUsername%20djStatus%20trackid%20tags%20prts%20updated_at%20createTimestamp&client_id=5hssEAdMy0mJTICnJNvC9TXEw3Va7jfO&response_type=code&redirect_uri=https%3A%2F%2Faccounts.marketwatch.com%2Fauth%2Fsso%2Flogin&nonce=1c401a0c-e50d-4ff9-b9e5-9ee66d23b69b&ui_locales=en-us-x-mw-223-2&ns=prod%2Faccounts-mw&state=Ij_BjehgojKihO2D.fol-KzuuFbZNtMy6SZz5wCTpnK7bXYKUflGlSLfPKYg&resource=https%253A%252F%252Fwww.marketwatch.com%252F&protocol=oauth2&client=5hssEAdMy0mJTICnJNvC9TXEw3Va7jfO#!/signin\"\n",
    "link = wsj_link #choose provider here\n",
    "browser.get(link)"
   ]
  },
  {
   "cell_type": "code",
   "execution_count": null,
   "metadata": {},
   "outputs": [],
   "source": [
    "email_field = WebDriverWait(browser, 10).until(EC.element_to_be_clickable((By.ID, \"username\")))\n",
    "email_field.send_keys(email)"
   ]
  },
  {
   "cell_type": "code",
   "execution_count": null,
   "metadata": {},
   "outputs": [],
   "source": [
    "login_button = browser.find_element(By.XPATH, '//*[@id=\"password-login\"]/div/form/div/div[5]/div[1]/button')\n",
    "browser.execute_script(\"arguments[0].click();\", login_button);"
   ]
  },
  {
   "cell_type": "code",
   "execution_count": null,
   "metadata": {},
   "outputs": [],
   "source": [
    "\n",
    "cnt = 0\n",
    "data = {'link': [], 'topic': [], 'time': [], 'header': [], 'content': []}\n",
    "with tqdm(total = len(links)) as pbar:\n",
    "    for ind, i in enumerate(links):\n",
    "        pbar.update(1)\n",
    "        browser.get(i)\n",
    "        print('ind:',ind)\n",
    "        print(i)\n",
    "        tmp_id = i.split('/')[-1].split('?')[0]\n",
    "#         print(tmp_id)\n",
    "        try:\n",
    "            time.sleep(1.5)\n",
    "            tmp_date = browser.find_element(By.XPATH,f'//*[@id=\"{tmp_id}\"]/div[1]/div[4]/div/p').text\n",
    "            header = browser.find_elements(By.TAG_NAME, 'h1')[0].text\n",
    "            contents = [i.text for i in browser.find_elements(By.TAG_NAME, 'P')]\n",
    "            category = browser.find_elements(By.TAG_NAME, 'NAV')[0].text\n",
    "\n",
    "        except:\n",
    "            try: \n",
    "                time.sleep(1)\n",
    "                tmp_date = browser.find_element(By.XPATH,f'//*[@id=\"{tmp_id}\"]/div[1]/div[4]/div/p').text\n",
    "                header = browser.find_elements(By.TAG_NAME, 'h1')[0].text\n",
    "                contents = [i.text for i in browser.find_elements(By.TAG_NAME, 'P')]\n",
    "                category = browser.find_elements(By.TAG_NAME, 'NAV')[0].text\n",
    "            except:\n",
    "                print('elem.text: broken')\n",
    "                cnt += 1\n",
    "                continue\n",
    "        print('header:', header)\n",
    "        data['link'].append(i)\n",
    "        data['topic'].append(category)\n",
    "        data['time'].append(tmp_date)\n",
    "        data['header'].append(header)\n",
    "        data['content'].append(contents)"
   ]
  }
 ],
 "metadata": {
  "kernelspec": {
   "display_name": "temp",
   "language": "python",
   "name": "python3"
  },
  "language_info": {
   "codemirror_mode": {
    "name": "ipython",
    "version": 3
   },
   "file_extension": ".py",
   "mimetype": "text/x-python",
   "name": "python",
   "nbconvert_exporter": "python",
   "pygments_lexer": "ipython3",
   "version": "3.11.5"
  }
 },
 "nbformat": 4,
 "nbformat_minor": 2
}
